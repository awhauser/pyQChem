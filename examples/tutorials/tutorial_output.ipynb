{
 "cells": [
  {
   "cell_type": "markdown",
   "metadata": {},
   "source": [
    "# pyQchem Tutorial Part II"
   ]
  },
  {
   "cell_type": "markdown",
   "metadata": {},
   "source": [
    "## Outputfile processing"
   ]
  },
  {
   "cell_type": "code",
   "execution_count": 54,
   "metadata": {},
   "outputs": [],
   "source": [
    "import pyqchem as qc"
   ]
  },
  {
   "cell_type": "markdown",
   "metadata": {},
   "source": [
    "Now we read in an output file:"
   ]
  },
  {
   "cell_type": "code",
   "execution_count": 55,
   "metadata": {},
   "outputs": [
    {
     "name": "stdout",
     "output_type": "stream",
     "text": [
      "a.out                  h2_batch.inp           pocop_batch.out        testrun2.out           tutorial_output.html\n",
      "aimd.out               iqmol.png              pocop_co.out           trajectory.xyz         tutorial_output.ipynb\n",
      "b.out                  mm_opt.out             pocop_eth.out          tutorial_input.html\n",
      "ethane.inp             oniom_opt.out          testrun.out            tutorial_input.ipynb\n"
     ]
    }
   ],
   "source": [
    "ls"
   ]
  },
  {
   "cell_type": "code",
   "execution_count": 56,
   "metadata": {},
   "outputs": [
    {
     "name": "stdout",
     "output_type": "stream",
     "text": [
      "Outputfile detected.\n",
      "Unsupported array type opt detected. Read as constant.\n"
     ]
    }
   ],
   "source": [
    "out = qc.read(\"pocop_co.out\")"
   ]
  },
  {
   "cell_type": "markdown",
   "metadata": {},
   "source": [
    "pyQChem is pretty talkative. It will tell you what it is doing while loading a file. This is not always desired, e.g. in scripts when it is called numerous times. To make it shut up, use the silent mode:"
   ]
  },
  {
   "cell_type": "code",
   "execution_count": 57,
   "metadata": {},
   "outputs": [],
   "source": [
    "out = qc.read(\"pocop_co.out\", silent=1)"
   ]
  },
  {
   "cell_type": "markdown",
   "metadata": {},
   "source": [
    "Tab completion shows us what is available for this object we created:"
   ]
  },
  {
   "cell_type": "code",
   "execution_count": 58,
   "metadata": {},
   "outputs": [
    {
     "data": {
      "text/plain": [
       "<pyQChem.output_classes._general at 0x10700bc10>"
      ]
     },
     "execution_count": 58,
     "metadata": {},
     "output_type": "execute_result"
    }
   ],
   "source": [
    "out.general"
   ]
  },
  {
   "cell_type": "markdown",
   "metadata": {},
   "source": [
    "We have two info objects available, **general** and **opt**.\n",
    "The first object, **general** is part of EVERY outputfile.\n",
    "It contains basic information about the job. Every info object knows a method named *info*, which gives us an overview:"
   ]
  },
  {
   "cell_type": "code",
   "execution_count": 59,
   "metadata": {},
   "outputs": [
    {
     "name": "stdout",
     "output_type": "stream",
     "text": [
      "About this job:\n",
      "--------------\n",
      "\n",
      "Q-Chem version:\t\t4.0.1\n",
      "Jobtype:\t\topt\n",
      "Basis functions:\t789\n",
      "Spin:\t\t\t0.0\n",
      "SCF energy:\t\t-3145.8818915\n",
      "Status:\t\t\tfinished\n"
     ]
    }
   ],
   "source": [
    "out.general.info()"
   ]
  },
  {
   "cell_type": "markdown",
   "metadata": {},
   "source": [
    "Now, at least everything that is listed in these *info* blocks (usually more than that) is also available as a variable. Again, use tab completion to see what is there:"
   ]
  },
  {
   "cell_type": "code",
   "execution_count": 60,
   "metadata": {},
   "outputs": [
    {
     "data": {
      "text/plain": [
       "'4.0.1'"
      ]
     },
     "execution_count": 60,
     "metadata": {},
     "output_type": "execute_result"
    }
   ],
   "source": [
    "out.general.version"
   ]
  },
  {
   "cell_type": "code",
   "execution_count": 61,
   "metadata": {},
   "outputs": [
    {
     "data": {
      "text/plain": [
       "-3145.8818914969"
      ]
     },
     "execution_count": 61,
     "metadata": {},
     "output_type": "execute_result"
    }
   ],
   "source": [
    "out.general.energy"
   ]
  },
  {
   "cell_type": "markdown",
   "metadata": {},
   "source": [
    "The **general** object also holds the corresponding input file for convenience, derived from the output:"
   ]
  },
  {
   "cell_type": "code",
   "execution_count": 62,
   "metadata": {},
   "outputs": [
    {
     "data": {
      "text/plain": [
       "<pyQChem.input_classes.inputfile at 0x10700b9d0>"
      ]
     },
     "execution_count": 62,
     "metadata": {},
     "output_type": "execute_result"
    }
   ],
   "source": [
    "out.general.inputfile"
   ]
  },
  {
   "cell_type": "markdown",
   "metadata": {},
   "source": [
    "We can grab it and treat it as we did in tutorial I on input files:"
   ]
  },
  {
   "cell_type": "code",
   "execution_count": 63,
   "metadata": {},
   "outputs": [
    {
     "data": {
      "text/plain": [
       "'8'"
      ]
     },
     "execution_count": 63,
     "metadata": {},
     "output_type": "execute_result"
    }
   ],
   "source": [
    "myinp = out.general.inputfile\n",
    "myinp.rem.scf_convergence()"
   ]
  },
  {
   "cell_type": "code",
   "execution_count": 64,
   "metadata": {},
   "outputs": [],
   "source": [
    "myinp.rem.scf_convergence(\"10\")"
   ]
  },
  {
   "cell_type": "code",
   "execution_count": 65,
   "metadata": {},
   "outputs": [
    {
     "name": "stdout",
     "output_type": "stream",
     "text": [
      "$rem\n",
      "SYMMETRY                      false\n",
      "BASIS                         gen\n",
      "GEOM_OPT_TOL_ENERGY           40\n",
      "GEOM_OPT_MAX_CYCLES           500\n",
      "THRESH                        14\n",
      "MEM_TOTAL                     16000\n",
      "MOLDEN_FORMAT                 true\n",
      "JOBTYPE                       opt\n",
      "THRESH_RCA_SWITCH             7\n",
      "SCF_ALGORITHM                 rca_diis\n",
      "GEOM_OPT_TOL_GRADIENT         300\n",
      "GEOM_OPT_TOL_DISPLACEMENT     40\n",
      "ECP                           gen\n",
      "SCF_CONVERGENCE               10\n",
      "MAX_SCF_CYCLES                500\n",
      "EXCHANGE                      b3lyp\n",
      "MAX_RCA_CYCLES                10\n",
      "INCDFT                        0\n",
      "SYM_IGNORE                    true\n",
      "MEM_STATIC                    4000\n",
      "XC_GRID                       000075000302\n",
      "INCFOCK                       0\n",
      "UNRESTRICTED                  true\n",
      "SCF_GUESS                     sad\n",
      "$end\n",
      "\n"
     ]
    }
   ],
   "source": [
    "print(myinp.rem)"
   ]
  },
  {
   "cell_type": "markdown",
   "metadata": {},
   "source": [
    "### Optimization output"
   ]
  },
  {
   "cell_type": "markdown",
   "metadata": {},
   "source": [
    "Since this outputfile is of type 'opt' also contains an optional info object named **opt**:"
   ]
  },
  {
   "cell_type": "code",
   "execution_count": 66,
   "metadata": {},
   "outputs": [
    {
     "data": {
      "text/plain": [
       "<pyQChem.output_classes._opt at 0x10700b950>"
      ]
     },
     "execution_count": 66,
     "metadata": {},
     "output_type": "execute_result"
    }
   ],
   "source": [
    "out.opt"
   ]
  },
  {
   "cell_type": "markdown",
   "metadata": {},
   "source": [
    "Again, we call the *info* method first, and find that it contains a summary of the optimization:"
   ]
  },
  {
   "cell_type": "code",
   "execution_count": 67,
   "metadata": {},
   "outputs": [
    {
     "name": "stdout",
     "output_type": "stream",
     "text": [
      "Summary of geometry optimization:\n",
      "--------------------------------\n",
      "\n",
      "Energy\t\tGradient\tDisplacement\tDeltaE\n",
      "-3145.826978357\t0.000000000\t0.225946000\t0.000000000\t\n",
      "-3145.869808193\t0.259299000\t0.062678000\t-0.042830000\t\n",
      "-3145.873236246\t0.097171000\t0.017411000\t-0.003428000\t\n",
      "-3145.874398274\t0.040532000\t0.025235000\t-0.001162000\t\n",
      "-3145.875046836\t0.014582000\t0.038872000\t-0.000649000\t\n",
      "-3145.875740269\t0.016368000\t0.050176000\t-0.000693000\t\n",
      "-3145.876350127\t0.019899000\t0.023494000\t-0.000610000\t\n",
      "-3145.876593444\t0.009878000\t0.022841000\t-0.000243000\t\n",
      "-3145.876868412\t0.006035000\t0.023662000\t-0.000275000\t\n",
      "-3145.877089609\t0.007039000\t0.020366000\t-0.000221000\t\n",
      "-3145.877252070\t0.009444000\t0.015182000\t-0.000162000\t\n",
      "-3145.877378978\t0.006411000\t0.011026000\t-0.000127000\t\n",
      "-3145.877498530\t0.002496000\t0.011736000\t-0.000120000\t\n",
      "-3145.877624833\t0.005415000\t0.014077000\t-0.000126000\t\n",
      "-3145.877758644\t0.006429000\t0.016361000\t-0.000134000\t\n",
      "-3145.877903725\t0.004237000\t0.021272000\t-0.000145000\t\n",
      "-3145.878083103\t0.003005000\t0.027702000\t-0.000179000\t\n",
      "-3145.878309009\t0.004199000\t0.032241000\t-0.000226000\t\n",
      "-3145.878553334\t0.007113000\t0.031526000\t-0.000244000\t\n",
      "-3145.878776894\t0.006856000\t0.025270000\t-0.000224000\t\n",
      "-3145.878945942\t0.003462000\t0.020840000\t-0.000169000\t\n",
      "-3145.879088316\t0.002548000\t0.023146000\t-0.000142000\t\n",
      "-3145.879251076\t0.005101000\t0.026161000\t-0.000163000\t\n",
      "-3145.879435254\t0.005894000\t0.025384000\t-0.000184000\t\n",
      "-3145.879611687\t0.003880000\t0.021848000\t-0.000176000\t\n",
      "-3145.879764364\t0.002496000\t0.019988000\t-0.000153000\t\n",
      "-3145.879901389\t0.003677000\t0.019825000\t-0.000137000\t\n",
      "-3145.880034658\t0.005224000\t0.019250000\t-0.000133000\t\n",
      "-3145.880145123\t0.004133000\t0.017366000\t-0.000110000\t\n",
      "-3145.880231579\t0.001989000\t0.016178000\t-0.000086000\t\n",
      "-3145.880309225\t0.002115000\t0.017044000\t-0.000078000\t\n",
      "-3145.880397265\t0.002845000\t0.017822000\t-0.000088000\t\n",
      "-3145.880500551\t0.003369000\t0.015832000\t-0.000103000\t\n",
      "-3145.880605205\t0.003277000\t0.014899000\t-0.000105000\t\n",
      "-3145.880692319\t0.002037000\t0.010828000\t-0.000087000\t\n",
      "-3145.880757873\t0.002675000\t0.008731000\t-0.000066000\t\n",
      "-3145.880803647\t0.002467000\t0.008121000\t-0.000046000\t\n",
      "-3145.880838873\t0.001248000\t0.007255000\t-0.000035000\t\n",
      "-3145.880868209\t0.001573000\t0.006467000\t-0.000029000\t\n",
      "-3145.880898145\t0.001832000\t0.006655000\t-0.000030000\t\n",
      "-3145.880930968\t0.001430000\t0.006807000\t-0.000033000\t\n",
      "-3145.880963177\t0.001633000\t0.005882000\t-0.000032000\t\n",
      "-3145.880990282\t0.001079000\t0.005144000\t-0.000027000\t\n",
      "-3145.881013233\t0.001522000\t0.005752000\t-0.000023000\t\n",
      "-3145.881036275\t0.001190000\t0.007543000\t-0.000023000\t\n",
      "-3145.881061849\t0.001344000\t0.009672000\t-0.000026000\t\n",
      "-3145.881089766\t0.001265000\t0.011140000\t-0.000028000\t\n",
      "-3145.881118390\t0.001322000\t0.011119000\t-0.000029000\t\n",
      "-3145.881145166\t0.001669000\t0.009392000\t-0.000027000\t\n",
      "-3145.881167528\t0.001341000\t0.007030000\t-0.000022000\t\n",
      "-3145.881184910\t0.000911000\t0.005732000\t-0.000017000\t\n",
      "-3145.881199507\t0.001130000\t0.006139000\t-0.000015000\t\n",
      "-3145.881214049\t0.001119000\t0.007200000\t-0.000015000\t\n",
      "-3145.881228690\t0.000966000\t0.007042000\t-0.000015000\t\n",
      "-3145.881240971\t0.000974000\t0.005337000\t-0.000012000\t\n",
      "-3145.881249638\t0.000720000\t0.003867000\t-0.000009000\t\n",
      "-3145.881256404\t0.000707000\t0.003927000\t-0.000007000\t\n",
      "-3145.881263883\t0.000560000\t0.005304000\t-0.000007000\t\n",
      "-3145.881273787\t0.000689000\t0.007297000\t-0.000010000\t\n",
      "-3145.881286128\t0.000856000\t0.008618000\t-0.000012000\t\n",
      "-3145.881299176\t0.001049000\t0.008286000\t-0.000013000\t\n",
      "-3145.881310993\t0.000941000\t0.007100000\t-0.000012000\t\n",
      "-3145.881320803\t0.000600000\t0.006313000\t-0.000010000\t\n",
      "-3145.881330270\t0.000701000\t0.006106000\t-0.000009000\t\n",
      "-3145.881339406\t0.001074000\t0.006173000\t-0.000009000\t\n",
      "-3145.881348305\t0.000969000\t0.006555000\t-0.000009000\t\n",
      "-3145.881357401\t0.000641000\t0.007247000\t-0.000009000\t\n",
      "-3145.881366996\t0.000615000\t0.007301000\t-0.000010000\t\n",
      "-3145.881376158\t0.000665000\t0.006021000\t-0.000009000\t\n",
      "-3145.881383309\t0.000712000\t0.004102000\t-0.000007000\t\n",
      "-3145.881388214\t0.000388000\t0.003216000\t-0.000005000\t\n",
      "-3145.881392169\t0.000352000\t0.003648000\t-0.000004000\t\n",
      "-3145.881396469\t0.000400000\t0.004853000\t-0.000004000\t\n",
      "-3145.881404212\t0.000580000\t0.006476000\t-0.000008000\t\n",
      "-3145.881411109\t0.000548000\t0.008472000\t-0.000007000\t\n",
      "-3145.881420128\t0.000447000\t0.010276000\t-0.000009000\t\n",
      "-3145.881431399\t0.000664000\t0.010564000\t-0.000011000\t\n",
      "-3145.881443494\t0.000897000\t0.008104000\t-0.000012000\t\n",
      "-3145.881453620\t0.000752000\t0.004857000\t-0.000010000\t\n",
      "-3145.881460652\t0.000497000\t0.003528000\t-0.000007000\t\n",
      "-3145.881465879\t0.000419000\t0.004178000\t-0.000005000\t\n",
      "-3145.881470793\t0.000457000\t0.005416000\t-0.000005000\t\n",
      "-3145.881475665\t0.000459000\t0.005810000\t-0.000005000\t\n",
      "-3145.881480102\t0.000396000\t0.005122000\t-0.000004000\t\n",
      "-3145.881484446\t0.000348000\t0.004408000\t-0.000004000\t\n",
      "-3145.881488587\t0.000399000\t0.004691000\t-0.000004000\t\n",
      "-3145.881493538\t0.000474000\t0.005333000\t-0.000005000\t\n",
      "-3145.881499406\t0.000521000\t0.005666000\t-0.000006000\t\n",
      "-3145.881505593\t0.000435000\t0.005559000\t-0.000006000\t\n",
      "-3145.881511498\t0.000445000\t0.005590000\t-0.000006000\t\n",
      "-3145.881517320\t0.000474000\t0.006567000\t-0.000006000\t\n",
      "-3145.881523901\t0.000507000\t0.008390000\t-0.000007000\t\n",
      "-3145.881530766\t0.000529000\t0.009862000\t-0.000007000\t\n",
      "-3145.881539706\t0.000522000\t0.009885000\t-0.000009000\t\n",
      "-3145.881548642\t0.000591000\t0.008846000\t-0.000009000\t\n",
      "-3145.881557075\t0.000417000\t0.008194000\t-0.000008000\t\n",
      "-3145.881565352\t0.000421000\t0.008008000\t-0.000008000\t\n",
      "-3145.881573490\t0.000430000\t0.007669000\t-0.000008000\t\n",
      "-3145.881580686\t0.000611000\t0.006753000\t-0.000007000\t\n",
      "-3145.881586603\t0.000508000\t0.006789000\t-0.000006000\t\n",
      "-3145.881592497\t0.000365000\t0.008864000\t-0.000006000\t\n",
      "-3145.881600130\t0.000405000\t0.012324000\t-0.000008000\t\n",
      "-3145.881610509\t0.000637000\t0.014294000\t-0.000010000\t\n",
      "-3145.881622044\t0.000689000\t0.012089000\t-0.000012000\t\n",
      "-3145.881631791\t0.000682000\t0.008133000\t-0.000010000\t\n",
      "-3145.881638906\t0.000543000\t0.006331000\t-0.000007000\t\n",
      "-3145.881644810\t0.000435000\t0.006700000\t-0.000006000\t\n",
      "-3145.881650437\t0.000499000\t0.007482000\t-0.000006000\t\n",
      "-3145.881655498\t0.000405000\t0.007537000\t-0.000005000\t\n",
      "-3145.881659833\t0.000425000\t0.007457000\t-0.000004000\t\n",
      "-3145.881663975\t0.000339000\t0.007761000\t-0.000004000\t\n",
      "-3145.881668544\t0.000416000\t0.007942000\t-0.000005000\t\n",
      "-3145.881673794\t0.000492000\t0.008319000\t-0.000005000\t\n",
      "-3145.881679982\t0.000463000\t0.009432000\t-0.000006000\t\n",
      "-3145.881687737\t0.000504000\t0.011797000\t-0.000008000\t\n",
      "-3145.881696015\t0.000601000\t0.013889000\t-0.000008000\t\n",
      "-3145.881707442\t0.000650000\t0.013814000\t-0.000011000\t\n",
      "-3145.881718177\t0.000903000\t0.011845000\t-0.000011000\t\n",
      "-3145.881727396\t0.000784000\t0.011218000\t-0.000009000\t\n",
      "-3145.881736215\t0.000601000\t0.012840000\t-0.000009000\t\n",
      "-3145.881747730\t0.000623000\t0.013603000\t-0.000012000\t\n",
      "-3145.881757989\t0.000655000\t0.010415000\t-0.000010000\t\n",
      "-3145.881768592\t0.000815000\t0.005254000\t-0.000011000\t\n",
      "-3145.881774619\t0.000605000\t0.002848000\t-0.000006000\t\n",
      "-3145.881778084\t0.000413000\t0.003029000\t-0.000003000\t\n",
      "-3145.881781005\t0.000351000\t0.004391000\t-0.000003000\t\n",
      "-3145.881784398\t0.000387000\t0.006376000\t-0.000003000\t\n",
      "-3145.881788816\t0.000425000\t0.008458000\t-0.000004000\t\n",
      "-3145.881794517\t0.000616000\t0.008915000\t-0.000006000\t\n",
      "-3145.881800664\t0.000632000\t0.006002000\t-0.000006000\t\n",
      "-3145.881805274\t0.000538000\t0.003283000\t-0.000005000\t\n",
      "-3145.881808625\t0.000315000\t0.002345000\t-0.000003000\t\n",
      "-3145.881811376\t0.000328000\t0.003237000\t-0.000003000\t\n",
      "-3145.881814822\t0.000323000\t0.004999000\t-0.000003000\t\n",
      "-3145.881818381\t0.000409000\t0.006086000\t-0.000004000\t\n",
      "-3145.881821489\t0.000449000\t0.005566000\t-0.000003000\t\n",
      "-3145.881824430\t0.000317000\t0.004438000\t-0.000003000\t\n",
      "-3145.881826117\t0.000231000\t0.004165000\t-0.000002000\t\n",
      "-3145.881828261\t0.000241000\t0.004911000\t-0.000002000\t\n",
      "-3145.881829801\t0.000264000\t0.004929000\t-0.000002000\t\n",
      "-3145.881831473\t0.000252000\t0.005398000\t-0.000002000\t\n",
      "-3145.881833168\t0.000212000\t0.005636000\t-0.000002000\t\n",
      "-3145.881835010\t0.000286000\t0.005688000\t-0.000002000\t\n",
      "-3145.881836959\t0.000245000\t0.004911000\t-0.000002000\t\n",
      "-3145.881838897\t0.000269000\t0.003326000\t-0.000002000\t\n",
      "-3145.881840806\t0.000253000\t0.003951000\t-0.000002000\t\n",
      "-3145.881842763\t0.000317000\t0.005317000\t-0.000002000\t\n",
      "-3145.881844761\t0.000296000\t0.004334000\t-0.000002000\t\n",
      "-3145.881846774\t0.000266000\t0.003203000\t-0.000002000\t\n",
      "-3145.881848851\t0.000283000\t0.005191000\t-0.000002000\t\n",
      "-3145.881851018\t0.000249000\t0.006789000\t-0.000002000\t\n",
      "-3145.881853182\t0.000284000\t0.007298000\t-0.000002000\t\n",
      "-3145.881855467\t0.000257000\t0.006371000\t-0.000002000\t\n",
      "-3145.881857180\t0.000262000\t0.004706000\t-0.000002000\t\n",
      "-3145.881858623\t0.000244000\t0.003103000\t-0.000001000\t\n",
      "-3145.881859906\t0.000166000\t0.002039000\t-0.000001000\t\n",
      "-3145.881861057\t0.000185000\t0.002489000\t-0.000001000\t\n",
      "-3145.881862024\t0.000261000\t0.002156000\t-0.000001000\t\n",
      "-3145.881862790\t0.000215000\t0.001577000\t-0.000001000\t\n",
      "-3145.881863433\t0.000129000\t0.002117000\t-0.000001000\t\n",
      "-3145.881864040\t0.000126000\t0.002624000\t-0.000001000\t\n",
      "-3145.881864686\t0.000169000\t0.003093000\t-0.000001000\t\n",
      "-3145.881865411\t0.000246000\t0.003280000\t-0.000001000\t\n",
      "-3145.881866206\t0.000224000\t0.003237000\t-0.000001000\t\n",
      "-3145.881867039\t0.000160000\t0.003047000\t-0.000001000\t\n",
      "-3145.881867880\t0.000178000\t0.003016000\t-0.000001000\t\n",
      "-3145.881868703\t0.000235000\t0.002974000\t-0.000001000\t\n",
      "-3145.881869487\t0.000262000\t0.003192000\t-0.000001000\t\n",
      "-3145.881870258\t0.000170000\t0.003469000\t-0.000001000\t\n",
      "-3145.881871093\t0.000167000\t0.004068000\t-0.000001000\t\n",
      "-3145.881872048\t0.000227000\t0.004001000\t-0.000001000\t\n",
      "-3145.881873063\t0.000327000\t0.003068000\t-0.000001000\t\n",
      "-3145.881873934\t0.000277000\t0.002522000\t-0.000001000\t\n",
      "-3145.881874566\t0.000176000\t0.001820000\t-0.000001000\t\n",
      "-3145.881875038\t0.000106000\t0.002098000\t0.000000000\t\n",
      "-3145.881875510\t0.000170000\t0.001616000\t0.000000000\t\n",
      "-3145.881876066\t0.000159000\t0.002329000\t-0.000001000\t\n",
      "-3145.881876785\t0.000203000\t0.004347000\t-0.000001000\t\n",
      "-3145.881877700\t0.000227000\t0.005551000\t-0.000001000\t\n",
      "-3145.881878864\t0.000276000\t0.006955000\t-0.000001000\t\n",
      "-3145.881879896\t0.000355000\t0.006071000\t-0.000001000\t\n",
      "-3145.881881113\t0.000285000\t0.004997000\t-0.000001000\t\n",
      "-3145.881883447\t0.000195000\t0.002816000\t-0.000002000\t\n",
      "-3145.881884311\t0.000166000\t0.002295000\t-0.000001000\t\n",
      "-3145.881885062\t0.000221000\t0.002483000\t-0.000001000\t\n",
      "-3145.881885827\t0.000176000\t0.002940000\t-0.000001000\t\n",
      "-3145.881886661\t0.000208000\t0.003462000\t-0.000001000\t\n",
      "-3145.881887529\t0.000166000\t0.003745000\t-0.000001000\t\n",
      "-3145.881888505\t0.000261000\t0.002458000\t-0.000001000\t\n",
      "-3145.881889035\t0.000223000\t0.001812000\t-0.000001000\t\n",
      "-3145.881889472\t0.000090000\t0.001414000\t0.000000000\t\n",
      "-3145.881889969\t0.000130000\t0.001556000\t0.000000000\t\n",
      "-3145.881890567\t0.000181000\t0.001892000\t-0.000001000\t\n",
      "-3145.881891203\t0.000217000\t0.001895000\t-0.000001000\t\n",
      "-3145.881891497\t0.000156000\t0.002070000\t0.000000000\t\n"
     ]
    }
   ],
   "source": [
    "out.opt.info()"
   ]
  },
  {
   "cell_type": "markdown",
   "metadata": {},
   "source": [
    "What else is there? A status variable:"
   ]
  },
  {
   "cell_type": "code",
   "execution_count": 68,
   "metadata": {},
   "outputs": [
    {
     "data": {
      "text/plain": [
       "'converged'"
      ]
     },
     "execution_count": 68,
     "metadata": {},
     "output_type": "execute_result"
    }
   ],
   "source": [
    "out.opt.status"
   ]
  },
  {
   "cell_type": "markdown",
   "metadata": {},
   "source": [
    "And the geometries..."
   ]
  },
  {
   "cell_type": "code",
   "execution_count": 69,
   "metadata": {},
   "outputs": [
    {
     "name": "stdout",
     "output_type": "stream",
     "text": [
      "84\n",
      "Optimization step 195\n",
      "H    7.027601    -3.396162    0.602089\n",
      "H    8.650101    1.014758    -2.711851\n",
      "H    8.981031    0.613238    -0.291041\n",
      "H    7.215761    -1.550422    2.243309\n",
      "O    5.373715    -1.453681    0.304992\n",
      "O    6.666133    0.139770    -1.614921\n",
      "Si    8.348937    0.149846    -1.592464\n",
      "Si    6.296084    -2.371581    1.366049\n",
      "H    5.341431    1.902978    3.036579\n",
      "H    6.572221    3.411518    1.269589\n",
      "H    8.834261    -1.181862    -1.991421\n",
      "H    5.290961    -3.101742    2.111299\n",
      "H    3.734411    3.287678    1.143269\n",
      "O    5.182498    1.359338    0.485950\n",
      "Si    5.188477    2.628050    1.590808\n",
      "Ti    5.148441    0.018788    -0.680642\n",
      "O    3.631895    -0.010462    -1.698338\n",
      "C    1.662269    1.207261    -1.099161\n",
      "C    2.324929    -0.014949    -1.293555\n",
      "C    1.682834    -1.239844    -1.057084\n",
      "C    0.368607    -1.210381    -0.588741\n",
      "C    -0.340585    -0.020043    -0.349185\n",
      "C    0.349715    1.173013    -0.626839\n",
      "O    -0.288606    2.383902    -0.408549\n",
      "P    -1.861652    2.258007    0.254828\n",
      "O    -0.251040    -2.423107    -0.332970\n",
      "P    -1.823803    -2.300168    0.330680\n",
      "C    -1.536415    -3.152858    2.016055\n",
      "H    2.211343    -2.180045    -1.212952\n",
      "H    2.173718    2.149682    -1.294142\n",
      "C    -2.817722    3.281093    -1.044839\n",
      "Ir    -2.270386    -0.021683    0.399661\n",
      "C    -2.767033    -3.381526    -0.929161\n",
      "C    -1.595649    3.174769    1.910446\n",
      "C    -0.424915    -2.332966    2.705737\n",
      "C    -1.075161    -4.614242    1.893972\n",
      "C    -2.820089    -3.060918    2.862212\n",
      "H    0.527171    -2.396941    2.159246\n",
      "H    -0.265785    -2.734856    3.721079\n",
      "H    -0.702969    -1.271752    2.790834\n",
      "H    -3.146844    -2.017896    2.986450\n",
      "H    -2.617182    -3.475381    3.864870\n",
      "H    -3.654367    -3.634354    2.432367\n",
      "H    -0.219837    -4.716153    1.209715\n",
      "H    -1.882026    -5.279683    1.554065\n",
      "H    -0.754512    -4.971990    2.887749\n",
      "C    -0.478437    2.394866    2.636145\n",
      "C    -2.883470    3.098468    2.751928\n",
      "C    -1.152032    4.635996    1.736516\n",
      "H    -0.745121    1.334820    2.762176\n",
      "H    -0.327211    2.838392    3.635372\n",
      "H    0.474661    2.447209    2.089896\n",
      "H    -3.202050    2.057265    2.908626\n",
      "H    -3.719791    3.650743    2.299082\n",
      "H    -2.690131    3.546777    3.741792\n",
      "H    -0.291598    4.722144    1.056511\n",
      "H    -0.846913    5.037012    2.718647\n",
      "H    -1.964014    5.275987    1.362032\n",
      "C    -1.990671    -4.644960    -1.343447\n",
      "C    -2.942795    -2.483953    -2.173515\n",
      "C    -4.150305    -3.751700    -0.366182\n",
      "H    -4.082869    -4.481757    0.454750\n",
      "H    -4.754306    -4.213027    -1.166293\n",
      "H    -4.700524    -2.868811    -0.003992\n",
      "H    -0.970988    -4.399226    -1.671714\n",
      "H    -2.516006    -5.120737    -2.189604\n",
      "H    -1.927199    -5.388651    -0.538733\n",
      "H    -1.971577    -2.177909    -2.591849\n",
      "H    -3.512549    -1.572685    -1.939370\n",
      "H    -3.483932    -3.052092    -2.950020\n",
      "C    -2.054348    4.536757    -1.504238\n",
      "C    -4.206400    3.656816    -0.499204\n",
      "C    -2.981142    2.336629    -2.255541\n",
      "H    -4.150433    4.419531    0.292439\n",
      "H    -4.747743    2.782430    -0.104554\n",
      "H    -4.813192    4.079659    -1.318226\n",
      "H    -1.997180    5.309619    -0.726947\n",
      "H    -2.584934    4.976769    -2.366243\n",
      "H    -1.032544    4.289795    -1.824582\n",
      "H    -2.006187    2.015884    -2.653532\n",
      "H    -3.516693    2.873836    -3.057488\n",
      "H    -3.552013    1.434329    -1.991944\n",
      "C    -4.053293    -0.020688    1.015938\n",
      "O    -5.162570    -0.016528    1.368644\n",
      "\n"
     ]
    }
   ],
   "source": [
    "print(out.opt.geometries[-1])  # grabbing the last one"
   ]
  },
  {
   "cell_type": "markdown",
   "metadata": {},
   "source": [
    "### Frequencies output"
   ]
  },
  {
   "cell_type": "markdown",
   "metadata": {},
   "source": [
    "We start with loading a freq job:"
   ]
  },
  {
   "cell_type": "code",
   "execution_count": 70,
   "metadata": {},
   "outputs": [
    {
     "name": "stdout",
     "output_type": "stream",
     "text": [
      "a.out                  h2_batch.inp           pocop_batch.out        testrun2.out           tutorial_output.html\n",
      "aimd.out               iqmol.png              pocop_co.out           trajectory.xyz         tutorial_output.ipynb\n",
      "b.out                  mm_opt.out             pocop_eth.out          tutorial_input.html\n",
      "ethane.inp             oniom_opt.out          testrun.out            tutorial_input.ipynb\n"
     ]
    }
   ],
   "source": [
    "ls"
   ]
  },
  {
   "cell_type": "code",
   "execution_count": 71,
   "metadata": {},
   "outputs": [
    {
     "name": "stdout",
     "output_type": "stream",
     "text": [
      "Outputfile detected.\n",
      "Unsupported array type isotopes detected. Read as constant.\n"
     ]
    }
   ],
   "source": [
    "myfreq = qc.read(\"pocop_eth.out\")"
   ]
  },
  {
   "cell_type": "code",
   "execution_count": 72,
   "metadata": {},
   "outputs": [
    {
     "name": "stdout",
     "output_type": "stream",
     "text": [
      "About this job:\n",
      "--------------\n",
      "\n",
      "Q-Chem version:\t\t4.0.1\n",
      "Jobtype:\t\tfreq\n",
      "Basis functions:\t637\n",
      "Spin:\t\t\t0.0\n",
      "SCF energy:\t\t-1878.46858176\n",
      "Status:\t\t\tfinished\n"
     ]
    }
   ],
   "source": [
    "myfreq.general.info()"
   ]
  },
  {
   "cell_type": "markdown",
   "metadata": {},
   "source": [
    "Let us have a look at the second info object, once again, using the *info()* method: "
   ]
  },
  {
   "cell_type": "code",
   "execution_count": 73,
   "metadata": {},
   "outputs": [
    {
     "name": "stdout",
     "output_type": "stream",
     "text": [
      "Electronic energy (E):\t\t-1878.46858176\n",
      "---------------------\n",
      "\n",
      "Corrections to E:\n",
      "-----------------\n",
      "Zero point energy (ZPE):\t[ 0.62098186  0.62098186  0.62098186]\n",
      "Internal thermal energy (ITE):\t[ 0.65779883  0.68365183  0.70676702]\n",
      "\n",
      "Temperature (T in Kelvin):\t[ 298.18  398.15  473.15]\n",
      "-------------------------\n",
      "\n",
      "Pressure (p in Pa):\t\t[ 101325.  101325.  101325.]\n",
      "------------------\n",
      "\n",
      "Thermodynamic potentials:\n",
      "------------------------\n",
      "Entropy (S):\t\t\t[ 0.00034538  0.00042065  0.00047429]\n",
      "Enthalpy (H):\t\t\t[-1877.80983792 -1877.78366939 -1877.76031676]\n",
      "Helmholtz free energy (F):\t[-1877.91376966 -1877.95241245 -1877.98622546]\n",
      "Gibbs free energy (G):\t\t[-1877.91282465 -1877.95115191 -1877.98472747]\n"
     ]
    }
   ],
   "source": [
    "myfreq.thermo.info()"
   ]
  },
  {
   "cell_type": "markdown",
   "metadata": {},
   "source": [
    "It contains a summary of the thermodynamics calculation. If we are unsure about the output we can get help with the question mark operator."
   ]
  },
  {
   "cell_type": "code",
   "execution_count": 74,
   "metadata": {},
   "outputs": [],
   "source": [
    "myfreq.thermo.info?"
   ]
  },
  {
   "cell_type": "markdown",
   "metadata": {},
   "source": [
    "Note that all qualities come in triples, this means that the freq job had 3 loops. Let's have a look at the inputfile:"
   ]
  },
  {
   "cell_type": "code",
   "execution_count": 75,
   "metadata": {},
   "outputs": [
    {
     "name": "stdout",
     "output_type": "stream",
     "text": [
      "$rem\n",
      "SYMMETRY                      false\n",
      "BASIS                         gen\n",
      "THRESH                        14\n",
      "MEM_TOTAL                     16000\n",
      "MOLDEN_FORMAT                 true\n",
      "JOBTYPE                       freq\n",
      "THRESH_RCA_SWITCH             7\n",
      "SCF_ALGORITHM                 rca_diis\n",
      "NBO                           true\n",
      "SCF_CONVERGENCE               9\n",
      "ECP                           gen\n",
      "MAX_SCF_CYCLES                500\n",
      "EXCHANGE                      b3lyp\n",
      "MAX_RCA_CYCLES                10\n",
      "INCDFT                        0\n",
      "INCFOCK                       0\n",
      "ISOTOPES                      true\n",
      "MEM_STATIC                    4000\n",
      "XC_GRID                       000075000302\n",
      "SYM_IGNORE                    true\n",
      "UNRESTRICTED                  true\n",
      "SCF_GUESS                     sad\n",
      "$end\n",
      "\n",
      "$comment\n",
      "Gibbs energies at 20, 125 and 200 deg C\n",
      "$end\n",
      "\n",
      "$basis\n",
      "H\n",
      "cc-pVDZ\n",
      "****\n",
      "C\n",
      "cc-pVDZ\n",
      "****\n",
      "Ir\n",
      "LANL2DZ\n",
      "****\n",
      "O\n",
      "cc-pVDZ\n",
      "****\n",
      "P\n",
      "cc-pVDZ\n",
      "****\n",
      "$end\n",
      "\n",
      "$ecp\n",
      "Ir\n",
      "LANL2DZ\n",
      "****\n",
      "$end\n",
      "\n",
      "$molecule\n",
      "0 1\n",
      "C    -1.970942    0.769824    0.001784\n",
      "C    -2.453570    -0.535781    0.137005\n",
      "C    -1.578954    -1.623026    0.226762\n",
      "C    -0.202962    -1.376437    0.178617\n",
      "C    0.344893    -0.085737    0.049273\n",
      "C    -0.587239    0.967133    -0.039285\n",
      "O    -0.124318    2.263169    -0.166136\n",
      "P    1.581570    2.426558    -0.060554\n",
      "O    0.648808    -2.460807    0.252692\n",
      "P    2.317016    -2.090974    0.074773\n",
      "C    2.645965    -3.127356    -1.515225\n",
      "H    -1.947383    -2.644817    0.328767\n",
      "H    -3.531847    -0.709091    0.171823\n",
      "H    -2.646313    1.623697    -0.068779\n",
      "C    1.638924    3.454009    1.564516\n",
      "Ir    2.369339    0.240245    -0.029901\n",
      "C    2.939270    -2.962600    1.663336\n",
      "C    1.842006    3.489934    -1.633137\n",
      "C    2.199553    -2.219293    -2.681965\n",
      "C    1.815074    -4.423247    -1.569199\n",
      "C    4.139049    -3.468339    -1.669626\n",
      "H    1.139241    -1.938296    -2.591441\n",
      "H    2.327067    -2.766479    -3.632589\n",
      "H    2.785285    -1.290422    -2.728236\n",
      "H    4.792939    -2.589683    -1.560954\n",
      "H    4.310965    -3.879734    -2.679465\n",
      "H    4.466639    -4.231782    -0.948315\n",
      "H    0.743693    -4.222288    -1.437311\n",
      "H    2.122609    -5.157388    -0.812940\n",
      "H    1.958332    -4.890699    -2.559258\n",
      "C    1.709213    2.497828    -2.809832\n",
      "C    3.255721    4.099592    -1.623069\n",
      "C    0.789413    4.597493    -1.823027\n",
      "H    2.434598    1.675293    -2.742639\n",
      "H    1.874489    3.041343    -3.756526\n",
      "H    0.702828    2.053823    -2.845156\n",
      "H    4.036480    3.350988    -1.416209\n",
      "H    3.351058    4.908945    -0.883159\n",
      "H    3.471900    4.535789    -2.613678\n",
      "H    -0.231635    4.200851    -1.734292\n",
      "H    0.903637    5.022105    -2.835766\n",
      "H    0.907114    5.421868    -1.108461\n",
      "C    2.478690    -4.425990    1.778089\n",
      "C    2.323137    -2.150858    2.823595\n",
      "C    4.473910    -2.887721    1.759913\n",
      "H    4.977955    -3.473287    0.978165\n",
      "H    4.791006    -3.299676    2.733652\n",
      "H    4.842264    -1.853241    1.706773\n",
      "H    1.397296    -4.526446    1.607616\n",
      "H    2.697335    -4.790151    2.797266\n",
      "H    3.010383    -5.086979    1.077761\n",
      "H    1.225246    -2.217616    2.823955\n",
      "H    2.598846    -1.087093    2.760876\n",
      "H    2.691937    -2.556264    3.781769\n",
      "C    0.806110    4.745829    1.495469\n",
      "C    3.087604    3.786469    1.964249\n",
      "C    1.033008    2.530812    2.644182\n",
      "H    3.620336    4.376186    1.203324\n",
      "H    3.667767    2.876633    2.170925\n",
      "H    3.072539    4.386093    2.891133\n",
      "H    1.298598    5.529321    0.901379\n",
      "H    0.683569    5.144260    2.517776\n",
      "H    -0.196533    4.564384    1.082745\n",
      "H    -0.031450    2.328080    2.457293\n",
      "H    1.118563    3.028720    3.625645\n",
      "H    1.561368    1.566665    2.693677\n",
      "C    4.496067    0.748472    0.444740\n",
      "C    4.392997    0.410268    -0.916572\n",
      "H    4.920693    0.043106    1.163364\n",
      "H    4.611895    1.794778    0.732080\n",
      "H    4.758346    -0.558229    -1.265940\n",
      "H    4.420954    1.189925    -1.684072\n",
      "$end\n",
      "\n",
      "$isotopes\n",
      "2\t1\n",
      "0\t398.15\t1\n",
      "0\t473.15\t1\n",
      "$end\n",
      "\n",
      "\n"
     ]
    }
   ],
   "source": [
    "print(myfreq.general.inputfile)"
   ]
  },
  {
   "cell_type": "markdown",
   "metadata": {},
   "source": [
    "What else is in the **thermo** object of our outputfile? All thermodynamic variables and potentials are directly accessible: "
   ]
  },
  {
   "cell_type": "code",
   "execution_count": 76,
   "metadata": {},
   "outputs": [
    {
     "data": {
      "text/plain": [
       "array([-1877.91282465, -1877.95115191, -1877.98472747])"
      ]
     },
     "execution_count": 76,
     "metadata": {},
     "output_type": "execute_result"
    }
   ],
   "source": [
    "myfreq.thermo.G"
   ]
  },
  {
   "cell_type": "code",
   "execution_count": 77,
   "metadata": {},
   "outputs": [
    {
     "data": {
      "text/plain": [
       "array([ 618.23733,  618.23733,  618.23733])"
      ]
     },
     "execution_count": 77,
     "metadata": {},
     "output_type": "execute_result"
    }
   ],
   "source": [
    "myfreq.thermo.mass"
   ]
  },
  {
   "cell_type": "code",
   "execution_count": 78,
   "metadata": {},
   "outputs": [
    {
     "data": {
      "text/plain": [
       "array([ 0.00034538,  0.00042065,  0.00047429])"
      ]
     },
     "execution_count": 78,
     "metadata": {},
     "output_type": "execute_result"
    }
   ],
   "source": [
    "myfreq.thermo.S"
   ]
  },
  {
   "cell_type": "markdown",
   "metadata": {},
   "source": [
    "Note: pyQchem comes with a library of useful constants and conversion factors. They are sitting in the object **constants**. Use tab completion to find what you need:"
   ]
  },
  {
   "cell_type": "code",
   "execution_count": 79,
   "metadata": {},
   "outputs": [
    {
     "data": {
      "text/plain": [
       "array([ 0.216732,  0.263963,  0.297622])"
      ]
     },
     "execution_count": 79,
     "metadata": {},
     "output_type": "execute_result"
    }
   ],
   "source": [
    "myfreq.thermo.S*qc.constants.hartree_to_kcal_pro_mole"
   ]
  },
  {
   "cell_type": "markdown",
   "metadata": {},
   "source": [
    "The **thermo** object also knows a powerful method named calculate(), which allows for an 'a posteriori' thermodynamics caclulation based on the frequencies given in the outputfile. Let's get some help first:"
   ]
  },
  {
   "cell_type": "code",
   "execution_count": 80,
   "metadata": {},
   "outputs": [],
   "source": [
    "myfreq.thermo.calculate?"
   ]
  },
  {
   "cell_type": "markdown",
   "metadata": {},
   "source": [
    "And then, use it to calculate G for a temperatures between 100 and 500 C at 2 bar:"
   ]
  },
  {
   "cell_type": "code",
   "execution_count": 81,
   "metadata": {},
   "outputs": [
    {
     "name": "stdout",
     "output_type": "stream",
     "text": [
      "Results based on frequencies of loop 0 and isotopes of loop 0\n",
      "-------------------------------------------------------------\n",
      "\n",
      "T\tp\t\tITE\t\t S\t\t H\t\t F\t\t G\n",
      "373.00\t200000.00\t0.6765901\t0.0004000\t-1877.7908105\t-1877.9411842\t-1877.9400030\t\n",
      "473.00\t200000.00\t0.7067183\t0.0004720\t-1877.7603655\t-1877.9851373\t-1877.9836394\t\n",
      "573.00\t200000.00\t0.7418014\t0.0005398\t-1877.7249657\t-1878.0360815\t-1878.0342670\t\n",
      "673.00\t200000.00\t0.7810015\t0.0006033\t-1877.6854490\t-1878.0935866\t-1878.0914553\t\n",
      "773.00\t200000.00\t0.8236392\t0.0006627\t-1877.6424947\t-1878.1572362\t-1878.1547882\t\n"
     ]
    }
   ],
   "source": [
    "results = myfreq.thermo.calculate([373,473,573,673,773],2e5)"
   ]
  },
  {
   "cell_type": "markdown",
   "metadata": {},
   "source": [
    "The same structure as printed is also returned by the function. Here I print the Gibbs free energy, which is the last column of the returned array:"
   ]
  },
  {
   "cell_type": "code",
   "execution_count": 82,
   "metadata": {},
   "outputs": [
    {
     "data": {
      "text/plain": [
       "array([-1877.94000297, -1877.98363937, -1878.03426696, -1878.09145534,\n",
       "       -1878.1547882 ])"
      ]
     },
     "execution_count": 82,
     "metadata": {},
     "output_type": "execute_result"
    }
   ],
   "source": [
    "results[:, 6]"
   ]
  },
  {
   "cell_type": "markdown",
   "metadata": {},
   "source": [
    "### Batch outputfiles"
   ]
  },
  {
   "cell_type": "markdown",
   "metadata": {},
   "source": [
    "Batch outputfiles can be read in as usual. We create an batch output object named *multi*:"
   ]
  },
  {
   "cell_type": "code",
   "execution_count": 83,
   "metadata": {},
   "outputs": [
    {
     "name": "stdout",
     "output_type": "stream",
     "text": [
      "Batch-Outputfile detected.\n",
      "Unsupported array type isotopes detected. Read as constant.\n"
     ]
    }
   ],
   "source": [
    "multi = qc.read(\"pocop_batch.out\")"
   ]
  },
  {
   "cell_type": "markdown",
   "metadata": {},
   "source": [
    "The structure is similar to batch inputfiles. Again, we have two lists accesible:"
   ]
  },
  {
   "cell_type": "code",
   "execution_count": 84,
   "metadata": {},
   "outputs": [
    {
     "data": {
      "text/plain": [
       "['opt', 'freq']"
      ]
     },
     "execution_count": 84,
     "metadata": {},
     "output_type": "execute_result"
    }
   ],
   "source": [
    "multi.list_of_content"
   ]
  },
  {
   "cell_type": "code",
   "execution_count": 85,
   "metadata": {},
   "outputs": [
    {
     "data": {
      "text/plain": [
       "[<pyQChem.output_classes._outputfile at 0x1076c3410>,\n",
       " <pyQChem.output_classes._outputfile at 0x1076c3a90>]"
      ]
     },
     "execution_count": 85,
     "metadata": {},
     "output_type": "execute_result"
    }
   ],
   "source": [
    "multi.list_of_jobs"
   ]
  },
  {
   "cell_type": "markdown",
   "metadata": {},
   "source": [
    "As an example, we take a closer look at the first job, an optimization:"
   ]
  },
  {
   "cell_type": "code",
   "execution_count": 86,
   "metadata": {},
   "outputs": [],
   "source": [
    "first = multi.list_of_jobs[0]"
   ]
  },
  {
   "cell_type": "markdown",
   "metadata": {},
   "source": [
    "The object *first* is now an outputfile object an can be treated as shown above:"
   ]
  },
  {
   "cell_type": "code",
   "execution_count": 87,
   "metadata": {},
   "outputs": [
    {
     "name": "stdout",
     "output_type": "stream",
     "text": [
      "Summary of geometry optimization:\n",
      "--------------------------------\n",
      "\n",
      "Energy\t\tGradient\tDisplacement\tDeltaE\n",
      "-1799.831259853\t0.000000000\t0.092735000\t0.000000000\t\n",
      "-1799.836548741\t0.015842000\t0.077467000\t-0.005289000\t\n",
      "-1799.836728062\t0.004263000\t0.125397000\t-0.000179000\t\n",
      "-1799.836521339\t0.002506000\t0.082155000\t0.000207000\t\n",
      "-1799.836810112\t0.004456000\t0.014902000\t-0.000289000\t\n",
      "-1799.836815717\t0.000314000\t0.023231000\t-0.000006000\t\n",
      "-1799.836812741\t0.000256000\t0.017563000\t0.000003000\t\n",
      "-1799.836817722\t0.000988000\t0.011472000\t-0.000005000\t\n",
      "-1799.836816371\t0.000102000\t0.008050000\t0.000001000\t\n",
      "-1799.836817992\t0.000276000\t0.001436000\t-0.000002000\t\n",
      "-1799.836818014\t0.000032000\t0.000409000\t0.000000000\t\n"
     ]
    }
   ],
   "source": [
    "first.opt.info()"
   ]
  },
  {
   "cell_type": "markdown",
   "metadata": {},
   "source": [
    "### QM/MM calculations"
   ]
  },
  {
   "cell_type": "markdown",
   "metadata": {},
   "source": [
    "We start with a MM only job: "
   ]
  },
  {
   "cell_type": "code",
   "execution_count": 88,
   "metadata": {},
   "outputs": [
    {
     "name": "stdout",
     "output_type": "stream",
     "text": [
      "Outputfile detected.\n",
      "Unsupported array type force_field_params detected. Read as constant.\n"
     ]
    }
   ],
   "source": [
    "mm_out = qc.read(\"mm_opt.out\")"
   ]
  },
  {
   "cell_type": "markdown",
   "metadata": {},
   "source": [
    "This job has only MM energy, no spin, no basis information."
   ]
  },
  {
   "cell_type": "code",
   "execution_count": 89,
   "metadata": {},
   "outputs": [
    {
     "name": "stdout",
     "output_type": "stream",
     "text": [
      "About this job:\n",
      "--------------\n",
      "\n",
      "Q-Chem version:\t\t4.0.1\n",
      "Jobtype:\t\topt (MM calculation)\n",
      "MM energy:\t\t-0.005006501207\n",
      "Status:\t\t\tfinished\n"
     ]
    }
   ],
   "source": [
    "mm_out.general.info()"
   ]
  },
  {
   "cell_type": "markdown",
   "metadata": {},
   "source": [
    "Yet, it is an optimization and therefore has a opt info object. Note that the energy stems from an MM calculation, but is given in Hartree for consistency."
   ]
  },
  {
   "cell_type": "code",
   "execution_count": 90,
   "metadata": {},
   "outputs": [
    {
     "name": "stdout",
     "output_type": "stream",
     "text": [
      "Summary of geometry optimization:\n",
      "--------------------------------\n",
      "\n",
      "Energy\t\tGradient\tDisplacement\tDeltaE\n",
      "0.053936023\t0.000000000\t0.121156000\t0.053936000\t\n",
      "0.031030805\t0.067498000\t0.146685000\t-0.022905000\t\n",
      "0.020795524\t0.043128000\t0.080008000\t-0.010235000\t\n",
      "0.019992655\t0.012418000\t0.148323000\t-0.000803000\t\n",
      "0.019474491\t0.002538000\t0.230845000\t-0.000518000\t\n",
      "0.027860160\t0.004835000\t0.219788000\t0.008386000\t\n",
      "0.017982894\t0.039331000\t0.279201000\t-0.009877000\t\n",
      "0.014729452\t0.008990000\t0.260137000\t-0.003253000\t\n",
      "0.011625358\t0.010976000\t0.257009000\t-0.003104000\t\n",
      "0.008301859\t0.014913000\t0.199202000\t-0.003323000\t\n",
      "0.004836007\t0.020256000\t0.267878000\t-0.003466000\t\n",
      "0.001839830\t0.021710000\t0.262378000\t-0.002996000\t\n",
      "-0.001760469\t0.025228000\t0.221817000\t-0.003600000\t\n",
      "-0.003483545\t0.021454000\t0.156308000\t-0.001723000\t\n",
      "-0.003913722\t0.015975000\t0.091898000\t-0.000430000\t\n",
      "-0.004979620\t0.013285000\t0.038523000\t-0.001066000\t\n",
      "-0.005000095\t0.001090000\t0.008171000\t-0.000020000\t\n",
      "-0.005006316\t0.000732000\t0.001766000\t-0.000006000\t\n",
      "-0.005006501\t0.000157000\t0.000926000\t-0.000000000\t\n"
     ]
    }
   ],
   "source": [
    "mm_out.opt.info()"
   ]
  },
  {
   "cell_type": "markdown",
   "metadata": {},
   "source": [
    "Whenever a job contains an MM calculation, pyQChem will also create info objects containing the FF energy contributions."
   ]
  },
  {
   "cell_type": "code",
   "execution_count": 91,
   "metadata": {},
   "outputs": [
    {
     "name": "stdout",
     "output_type": "stream",
     "text": [
      "MM calculation summary\n",
      "----------------------\n",
      "\n",
      "19 energies found, printing last:\n",
      "\n",
      "Number of bonds:\t\t9\n",
      "Bond energy:\t\t\t0.003380401612 kcal/mol\n",
      "Angle energy:\t\t\t0.003278483484 kcal/mol\n",
      "Urey-Bradly energy:\t\t0.008419976061 kcal/mol\n",
      "Improper rotation energy:\t0.0 kcal/mol\n",
      "Torsion energy:\t\t\t0.033042062086 kcal/mol\n",
      "van der Waals energy:\t\t0.179707355114 kcal/mol\n",
      "Coulomb energy:\t\t\t-3.36945520252 kcal/mol\n",
      "-------------------------\n",
      "Total energy:\t\t\t-3.14162692416 kcal/mol (-0.00500650118196 Hartree)\n"
     ]
    }
   ],
   "source": [
    "mm_out.mm.info()"
   ]
  },
  {
   "cell_type": "markdown",
   "metadata": {},
   "source": [
    "Now, what happens if we read a QM/MM outputfile?"
   ]
  },
  {
   "cell_type": "code",
   "execution_count": 92,
   "metadata": {},
   "outputs": [
    {
     "name": "stdout",
     "output_type": "stream",
     "text": [
      "Outputfile detected.\n",
      "Unsupported array type qm_atoms detected. Read as constant.\n"
     ]
    }
   ],
   "source": [
    "oniom = qc.read(\"oniom_opt.out\")"
   ]
  },
  {
   "cell_type": "code",
   "execution_count": 93,
   "metadata": {},
   "outputs": [
    {
     "name": "stdout",
     "output_type": "stream",
     "text": [
      "About this job:\n",
      "--------------\n",
      "\n",
      "Q-Chem version:\t\t4.0.1\n",
      "Jobtype:\t\topt (QM/MM calculation of type ONIOM)\n",
      "Basis functions:\t19\n",
      "Spin:\t\t\t0.0\n",
      "QM/MM total energy:\t-69.9172784837\n",
      "Status:\t\t\tunfinished\n"
     ]
    }
   ],
   "source": [
    "oniom.general.info()"
   ]
  },
  {
   "cell_type": "markdown",
   "metadata": {},
   "source": [
    "In the case of a Janus job we find ONE extra info object named **mm** describing the MM part.\n",
    "For ONIOM calculations (example given) there are two objects present, one for the total system, one for the model subset:"
   ]
  },
  {
   "cell_type": "code",
   "execution_count": 94,
   "metadata": {},
   "outputs": [
    {
     "data": {
      "text/plain": [
       "(<pyQChem.output_classes._mm at 0x10760a5d0>,\n",
       " <pyQChem.output_classes._mm at 0x10760a490>)"
      ]
     },
     "execution_count": 94,
     "metadata": {},
     "output_type": "execute_result"
    }
   ],
   "source": [
    "oniom.mm_total, oniom.mm_model"
   ]
  },
  {
   "cell_type": "code",
   "execution_count": 95,
   "metadata": {},
   "outputs": [
    {
     "name": "stdout",
     "output_type": "stream",
     "text": [
      "MM calculation summary\n",
      "----------------------\n",
      "\n",
      "50 energies found, printing last:\n",
      "\n",
      "Number of bonds:\t\t2\n",
      "Bond energy:\t\t\t5.04671782843 kcal/mol\n",
      "Angle energy:\t\t\t0.017366650812 kcal/mol\n",
      "Urey-Bradly energy:\t\t0.531139409663 kcal/mol\n",
      "Improper rotation energy:\t0.0 kcal/mol\n",
      "Torsion energy:\t\t\t0.0 kcal/mol\n",
      "van der Waals energy:\t\t0.0 kcal/mol\n",
      "Coulomb energy:\t\t\t0.0 kcal/mol\n",
      "-------------------------\n",
      "Total energy:\t\t\t5.5952238889 kcal/mol (0.00891655683164 Hartree)\n"
     ]
    }
   ],
   "source": [
    "oniom.mm_model.info()"
   ]
  },
  {
   "cell_type": "markdown",
   "metadata": {},
   "source": [
    "Let's have a look at the last MM energies in the file, and the total energy after QM addition:"
   ]
  },
  {
   "cell_type": "code",
   "execution_count": 96,
   "metadata": {},
   "outputs": [],
   "source": [
    "E_mm_total = oniom.mm_total.etot[-1]*qc.constants.kcal_pro_mole_to_hartree\n",
    "E_mm_model = oniom.mm_model.etot[-1]*qc.constants.kcal_pro_mole_to_hartree\n",
    "E_qmmm = oniom.opt.energies[-1]"
   ]
  },
  {
   "cell_type": "code",
   "execution_count": 97,
   "metadata": {},
   "outputs": [
    {
     "data": {
      "text/plain": [
       "(0.001197310569047315, 0.00891655683163947, -69.917278484)"
      ]
     },
     "execution_count": 97,
     "metadata": {},
     "output_type": "execute_result"
    }
   ],
   "source": [
    "(E_mm_total, E_mm_model, E_qmmm)"
   ]
  },
  {
   "cell_type": "markdown",
   "metadata": {},
   "source": [
    "According to the ONIOM definition the pure QM energy could be obtained here via"
   ]
  },
  {
   "cell_type": "code",
   "execution_count": 98,
   "metadata": {},
   "outputs": [
    {
     "data": {
      "text/plain": [
       "-69.90955923773741"
      ]
     },
     "execution_count": 98,
     "metadata": {},
     "output_type": "execute_result"
    }
   ],
   "source": [
    "E_qmmm - E_mm_total + E_mm_model"
   ]
  },
  {
   "cell_type": "markdown",
   "metadata": {},
   "source": [
    "### AIMD output files"
   ]
  },
  {
   "cell_type": "markdown",
   "metadata": {},
   "source": [
    "The following batch outputfile contains two calculations:"
   ]
  },
  {
   "cell_type": "code",
   "execution_count": 99,
   "metadata": {},
   "outputs": [
    {
     "name": "stdout",
     "output_type": "stream",
     "text": [
      "Batch-Outputfile detected.\n"
     ]
    }
   ],
   "source": [
    "md_job = qc.read(\"aimd.out\")"
   ]
  },
  {
   "cell_type": "code",
   "execution_count": 100,
   "metadata": {},
   "outputs": [
    {
     "data": {
      "text/plain": [
       "['freq', 'aimd']"
      ]
     },
     "execution_count": 100,
     "metadata": {},
     "output_type": "execute_result"
    }
   ],
   "source": [
    "md_job.list_of_content"
   ]
  },
  {
   "cell_type": "markdown",
   "metadata": {},
   "source": [
    "Let's have a look at the AIMD part:"
   ]
  },
  {
   "cell_type": "code",
   "execution_count": 101,
   "metadata": {},
   "outputs": [],
   "source": [
    "job1 = md_job.list_of_jobs[1]"
   ]
  },
  {
   "cell_type": "markdown",
   "metadata": {},
   "source": [
    "Surprise surprise, this job contains an info array named **aimd**! We call its info method to get the details:"
   ]
  },
  {
   "cell_type": "code",
   "execution_count": 102,
   "metadata": {},
   "outputs": [
    {
     "name": "stdout",
     "output_type": "stream",
     "text": [
      "Summary of AIMD calculation:\n",
      "--------------------------------\n",
      "\n",
      "Step\tenergies\ttime (fs)\tdrift\n",
      "1\t-154.930261198\t    0.00\t-0.05000\t\n",
      "2\t-154.918118615\t   20.00\t-0.18000\t\n",
      "3\t-154.902340307\t   40.00\t-0.35000\t\n",
      "4\t-154.886893702\t   60.00\t-0.51700\t\n",
      "5\t-154.874985826\t   80.00\t-0.64600\t\n",
      "6\t-154.868447005\t  100.00\t-0.71700\t\n",
      "7\t-154.867616522\t  120.00\t-0.72700\t\n",
      "8\t-154.871685646\t  140.00\t-0.68400\t\n",
      "9\t-154.879118566\t  160.00\t-0.60400\t\n",
      "10\t-154.887851069\t  180.00\t-0.51000\t\n",
      "11\t-154.895331403\t  200.00\t-0.43000\t\n",
      "12\t-154.898726721\t  220.00\t-0.39500\t\n",
      "13\t-154.895662725\t  240.00\t-0.42900\t\n",
      "14\t-154.885670330\t  260.00\t-0.53700\t\n",
      "15\t-154.871829300\t  280.00\t-0.68400\t\n",
      "16\t-154.860868780\t  300.00\t-0.79900\t\n",
      "17\t-154.859753253\t  320.00\t-0.81000\t\n",
      "18\t-154.870203276\t  340.00\t-0.70000\t\n",
      "19\t-154.886866778\t  360.00\t-0.52300\t\n",
      "20\t-154.901573398\t  380.00\t-0.36600\t\n",
      "21\t-154.908710888\t  400.00\t-0.28900\t\n",
      "22\t-154.907080467\t  420.00\t-0.30400\t\n",
      "23\t-154.898788817\t  440.00\t-0.39200\t\n",
      "24\t-154.887468574\t  460.00\t-0.51300\t\n",
      "25\t-154.876848698\t  480.00\t-0.62700\t\n",
      "26\t-154.869723136\t  500.00\t-0.70400\t\n",
      "27\t-154.867394784\t  520.00\t-0.72900\t\n",
      "28\t-154.869773092\t  540.00\t-0.70400\t\n",
      "29\t-154.875929291\t  560.00\t-0.63800\t\n",
      "30\t-154.884587209\t  580.00\t-0.54400\t\n",
      "31\t-154.894244815\t  600.00\t-0.44000\t\n",
      "32\t-154.903057773\t  620.00\t-0.34500\t\n",
      "33\t-154.908836388\t  640.00\t-0.28300\t\n",
      "34\t-154.909488255\t  660.00\t-0.27700\t\n",
      "35\t-154.904043082\t  680.00\t-0.33600\t\n",
      "36\t-154.893918834\t  700.00\t-0.44400\t\n",
      "37\t-154.883388814\t  720.00\t-0.55500\t\n",
      "38\t-154.878038777\t  740.00\t-0.61100\t\n",
      "39\t-154.881306675\t  760.00\t-0.57700\t\n",
      "40\t-154.891535555\t  780.00\t-0.46900\t\n",
      "41\t-154.902718397\t  800.00\t-0.35100\t\n",
      "42\t-154.908691592\t  820.00\t-0.28700\t\n",
      "43\t-154.906733132\t  840.00\t-0.30800\t\n",
      "44\t-154.898081788\t  860.00\t-0.40000\t\n",
      "45\t-154.886364911\t  880.00\t-0.52500\t\n",
      "46\t-154.875604711\t  900.00\t-0.64100\t\n",
      "47\t-154.868687767\t  920.00\t-0.71500\t\n",
      "48\t-154.866736150\t  940.00\t-0.73700\t\n",
      "49\t-154.869403895\t  960.00\t-0.70800\t\n",
      "50\t-154.875566511\t  980.00\t-0.64200\t\n",
      "51\t-154.883797964\t 1000.00\t-0.55300\t\n",
      "52\t-154.892484752\t 1020.00\t-0.45900\t\n",
      "53\t-154.899813517\t 1040.00\t-0.38000\t\n",
      "54\t-154.903926698\t 1060.00\t-0.33600\t\n",
      "55\t-154.903407548\t 1080.00\t-0.34300\t\n",
      "56\t-154.898020642\t 1100.00\t-0.40100\t\n",
      "57\t-154.889304063\t 1120.00\t-0.49500\t\n",
      "58\t-154.880424459\t 1140.00\t-0.59000\t\n",
      "59\t-154.875079462\t 1160.00\t-0.64700\t\n",
      "60\t-154.875834083\t 1180.00\t-0.64000\t\n",
      "61\t-154.882447149\t 1200.00\t-0.57100\t\n",
      "62\t-154.891368879\t 1220.00\t-0.47700\t\n",
      "63\t-154.897753878\t 1240.00\t-0.41000\t\n",
      "64\t-154.898626538\t 1260.00\t-0.40000\t\n",
      "65\t-154.894310885\t 1280.00\t-0.44400\t\n",
      "66\t-154.887514082\t 1300.00\t-0.51600\t\n",
      "67\t-154.881393105\t 1320.00\t-0.58100\t\n",
      "68\t-154.877977495\t 1340.00\t-0.61700\t\n",
      "69\t-154.877722422\t 1360.00\t-0.62000\t\n",
      "70\t-154.880070804\t 1380.00\t-0.59400\t\n",
      "71\t-154.884209756\t 1400.00\t-0.54800\t\n",
      "72\t-154.889396300\t 1420.00\t-0.49200\t\n",
      "73\t-154.894865441\t 1440.00\t-0.43200\t\n",
      "74\t-154.899657088\t 1460.00\t-0.38100\t\n",
      "75\t-154.902640922\t 1480.00\t-0.34900\t\n",
      "76\t-154.902838372\t 1500.00\t-0.34700\t\n",
      "77\t-154.899922529\t 1520.00\t-0.37900\t\n",
      "78\t-154.894521771\t 1540.00\t-0.43700\t\n",
      "79\t-154.887929000\t 1560.00\t-0.50900\t\n",
      "80\t-154.881466888\t 1580.00\t-0.58000\t\n",
      "81\t-154.876446483\t 1600.00\t-0.63400\t\n",
      "82\t-154.874523974\t 1620.00\t-0.65500\t\n",
      "83\t-154.876651117\t 1640.00\t-0.63300\t\n",
      "84\t-154.881200327\t 1660.00\t-0.58600\t\n",
      "85\t-154.884686391\t 1680.00\t-0.54900\t\n",
      "86\t-154.884856141\t 1700.00\t-0.54600\t\n",
      "87\t-154.882301452\t 1720.00\t-0.57200\t\n",
      "88\t-154.879316766\t 1740.00\t-0.60200\t\n",
      "89\t-154.877866677\t 1760.00\t-0.61700\t\n",
      "90\t-154.878568231\t 1780.00\t-0.60900\t\n",
      "91\t-154.880992633\t 1800.00\t-0.58300\t\n",
      "92\t-154.884395069\t 1820.00\t-0.54600\t\n",
      "93\t-154.888098703\t 1840.00\t-0.50600\t\n",
      "94\t-154.891486059\t 1860.00\t-0.47000\t\n",
      "95\t-154.893925484\t 1880.00\t-0.44300\t\n",
      "96\t-154.894893003\t 1900.00\t-0.43300\t\n",
      "97\t-154.894321948\t 1920.00\t-0.43900\t\n",
      "98\t-154.892930956\t 1940.00\t-0.45300\t\n",
      "99\t-154.892035975\t 1960.00\t-0.46200\t\n",
      "100\t-154.892545599\t 1980.00\t-0.45700\t\n",
      "101\t-154.893798570\t 2000.00\t-0.44500\t\n",
      "102\t-154.893705066\t 2020.00\t-0.44800\t\n",
      "103\t-154.890673937\t 2040.00\t-0.48000\t\n",
      "104\t-154.885587725\t 2060.00\t-0.53400\t\n",
      "105\t-154.881331895\t 2080.00\t-0.57900\t\n",
      "106\t-154.879916845\t 2100.00\t-0.59500\t\n",
      "107\t-154.880761167\t 2120.00\t-0.58700\t\n",
      "108\t-154.882191873\t 2140.00\t-0.57200\t\n",
      "109\t-154.883424006\t 2160.00\t-0.55800\t\n",
      "110\t-154.884587560\t 2180.00\t-0.54500\t\n",
      "111\t-154.885828427\t 2200.00\t-0.53100\t\n",
      "112\t-154.886994030\t 2220.00\t-0.51900\t\n",
      "113\t-154.887872391\t 2240.00\t-0.50900\t\n",
      "114\t-154.888364531\t 2260.00\t-0.50400\t\n",
      "115\t-154.888419380\t 2280.00\t-0.50300\t\n",
      "116\t-154.887944201\t 2300.00\t-0.50800\t\n",
      "117\t-154.886902141\t 2320.00\t-0.51900\t\n",
      "118\t-154.885620864\t 2340.00\t-0.53300\t\n",
      "119\t-154.885076026\t 2360.00\t-0.53800\t\n",
      "120\t-154.886680082\t 2380.00\t-0.51900\t\n",
      "121\t-154.891273511\t 2400.00\t-0.47000\t\n",
      "122\t-154.897874365\t 2420.00\t-0.40000\t\n",
      "123\t-154.903491500\t 2440.00\t-0.34200\t\n",
      "124\t-154.904659967\t 2460.00\t-0.33100\t\n",
      "125\t-154.899881032\t 2480.00\t-0.38200\t\n",
      "126\t-154.891308277\t 2500.00\t-0.47300\t\n",
      "127\t-154.883881928\t 2520.00\t-0.55300\t\n",
      "128\t-154.881646700\t 2540.00\t-0.57800\t\n",
      "129\t-154.884677569\t 2560.00\t-0.54800\t\n",
      "130\t-154.889986493\t 2580.00\t-0.49200\t\n",
      "131\t-154.894465444\t 2600.00\t-0.44300\t\n",
      "132\t-154.896492130\t 2620.00\t-0.42000\t\n",
      "133\t-154.895889123\t 2640.00\t-0.42500\t\n",
      "134\t-154.893294854\t 2660.00\t-0.45200\t\n",
      "135\t-154.889550136\t 2680.00\t-0.49100\t\n",
      "136\t-154.885308657\t 2700.00\t-0.53700\t\n",
      "137\t-154.880952470\t 2720.00\t-0.58400\t\n",
      "138\t-154.876808098\t 2740.00\t-0.62900\t\n",
      "139\t-154.873530304\t 2760.00\t-0.66400\t\n",
      "140\t-154.872324289\t 2780.00\t-0.67600\t\n",
      "141\t-154.874574648\t 2800.00\t-0.65200\t\n",
      "142\t-154.880816316\t 2820.00\t-0.58400\t\n",
      "143\t-154.889775317\t 2840.00\t-0.48800\t\n",
      "144\t-154.898433763\t 2860.00\t-0.39600\t\n",
      "145\t-154.903181409\t 2880.00\t-0.34600\t\n",
      "146\t-154.901336779\t 2900.00\t-0.36700\t\n",
      "147\t-154.892593666\t 2920.00\t-0.46100\t\n",
      "148\t-154.880118225\t 2940.00\t-0.59300\t\n",
      "149\t-154.870025465\t 2960.00\t-0.69900\t\n",
      "150\t-154.867832383\t 2980.00\t-0.72300\t\n",
      "151\t-154.874160784\t 3000.00\t-0.65800\t\n",
      "152\t-154.884663058\t 3020.00\t-0.54700\t\n",
      "153\t-154.894050883\t 3040.00\t-0.44500\t\n",
      "154\t-154.899301012\t 3060.00\t-0.38800\t\n",
      "155\t-154.899936347\t 3080.00\t-0.37900\t\n",
      "156\t-154.896876739\t 3100.00\t-0.41200\t\n",
      "157\t-154.891430740\t 3120.00\t-0.47000\t\n",
      "158\t-154.884882030\t 3140.00\t-0.54100\t\n",
      "159\t-154.878523290\t 3160.00\t-0.61000\t\n",
      "160\t-154.873823377\t 3180.00\t-0.66000\t\n",
      "161\t-154.872365961\t 3200.00\t-0.67600\t\n",
      "162\t-154.875326769\t 3220.00\t-0.64300\t\n",
      "163\t-154.882699648\t 3240.00\t-0.56400\t\n",
      "164\t-154.892885977\t 3260.00\t-0.45400\t\n",
      "165\t-154.903042875\t 3280.00\t-0.34600\t\n",
      "166\t-154.909963493\t 3300.00\t-0.27200\t\n",
      "167\t-154.911059439\t 3320.00\t-0.26100\t\n",
      "168\t-154.905346502\t 3340.00\t-0.32200\t\n",
      "169\t-154.894458782\t 3360.00\t-0.43800\t\n",
      "170\t-154.883014580\t 3380.00\t-0.55900\t\n",
      "171\t-154.876836117\t 3400.00\t-0.62400\t\n",
      "172\t-154.879013482\t 3420.00\t-0.60200\t\n",
      "173\t-154.887466191\t 3440.00\t-0.51300\t\n",
      "174\t-154.897024565\t 3460.00\t-0.41100\t\n",
      "175\t-154.903342762\t 3480.00\t-0.34300\t\n",
      "176\t-154.904662299\t 3500.00\t-0.32800\t\n",
      "177\t-154.901255048\t 3520.00\t-0.36400\t\n",
      "178\t-154.894331722\t 3540.00\t-0.43900\t\n",
      "179\t-154.885437597\t 3560.00\t-0.53500\t\n",
      "180\t-154.876349237\t 3580.00\t-0.63300\t\n",
      "181\t-154.869075083\t 3600.00\t-0.71200\t\n",
      "182\t-154.865561277\t 3620.00\t-0.74900\t\n",
      "183\t-154.867019391\t 3640.00\t-0.73300\t\n",
      "184\t-154.873277587\t 3660.00\t-0.66600\t\n",
      "185\t-154.882696394\t 3680.00\t-0.56500\t\n",
      "186\t-154.892725146\t 3700.00\t-0.45700\t\n",
      "187\t-154.900679793\t 3720.00\t-0.37100\t\n",
      "188\t-154.904371667\t 3740.00\t-0.33200\t\n",
      "189\t-154.902598860\t 3760.00\t-0.35100\t\n",
      "190\t-154.895695838\t 3780.00\t-0.42600\t\n",
      "191\t-154.886093019\t 3800.00\t-0.52800\t\n",
      "192\t-154.878277706\t 3820.00\t-0.61000\t\n",
      "193\t-154.877052706\t 3840.00\t-0.62200\t\n",
      "194\t-154.884019982\t 3860.00\t-0.54900\t\n",
      "195\t-154.895591752\t 3880.00\t-0.42700\t\n",
      "196\t-154.905684436\t 3900.00\t-0.32000\t\n",
      "197\t-154.910040406\t 3920.00\t-0.27200\t\n",
      "198\t-154.907732047\t 3940.00\t-0.29700\t\n",
      "199\t-154.900141685\t 3960.00\t-0.37800\t\n",
      "200\t-154.889646255\t 3980.00\t-0.49100\t\n"
     ]
    }
   ],
   "source": [
    "job1.aimd.info()"
   ]
  },
  {
   "cell_type": "markdown",
   "metadata": {},
   "source": [
    "This job consists of 200 steps. The size of each timestep is 20 fs. Beside energies, time steps and energy drift this info object also contains the kinetic energies, the geometries, and relevant parameters such as temperature."
   ]
  },
  {
   "cell_type": "code",
   "execution_count": 103,
   "metadata": {},
   "outputs": [
    {
     "data": {
      "text/plain": [
       "[<pyQChem.input_classes.cartesian at 0x10749fd50>,\n",
       " <pyQChem.input_classes.cartesian at 0x10749ff90>,\n",
       " <pyQChem.input_classes.cartesian at 0x1074a60d0>,\n",
       " <pyQChem.input_classes.cartesian at 0x1074a6050>,\n",
       " <pyQChem.input_classes.cartesian at 0x1074a6210>]"
      ]
     },
     "execution_count": 103,
     "metadata": {},
     "output_type": "execute_result"
    }
   ],
   "source": [
    "job1.aimd.geometries[0:5]"
   ]
  },
  {
   "cell_type": "markdown",
   "metadata": {},
   "source": [
    "For a quick and easy visualisation of the trajectory the **aimd** info object also knows a method named *write_trajectory_xyz(\"my_filename\")*, which concatenates all geometries to a series of xyz-coordinates and saves them into a textfile \"my_filename\", using the corresponding energy as title. This format is e.g. supported by Molden, which allows a visualistion of the geometries and the energies at the same time. If no filename is specified, a file \"trajectory.xyz\" will be created."
   ]
  },
  {
   "cell_type": "code",
   "execution_count": 104,
   "metadata": {},
   "outputs": [],
   "source": [
    "job1.aimd.write_trajectory_xyz()"
   ]
  },
  {
   "cell_type": "code",
   "execution_count": 105,
   "metadata": {},
   "outputs": [
    {
     "name": "stdout",
     "output_type": "stream",
     "text": [
      "a.out                  h2_batch.inp           pocop_batch.out        testrun2.out           tutorial_output.html\n",
      "aimd.out               iqmol.png              pocop_co.out           trajectory.xyz         tutorial_output.ipynb\n",
      "b.out                  mm_opt.out             pocop_eth.out          tutorial_input.html\n",
      "ethane.inp             oniom_opt.out          testrun.out            tutorial_input.ipynb\n"
     ]
    }
   ],
   "source": [
    "ls"
   ]
  }
 ],
 "metadata": {
  "kernelspec": {
   "display_name": "Python [conda env:py3.6]",
   "language": "python",
   "name": "conda-env-py3.6-py"
  },
  "language_info": {
   "codemirror_mode": {
    "name": "ipython",
    "version": 3
   },
   "file_extension": ".py",
   "mimetype": "text/x-python",
   "name": "python",
   "nbconvert_exporter": "python",
   "pygments_lexer": "ipython3",
   "version": "3.6.5"
  }
 },
 "nbformat": 4,
 "nbformat_minor": 2
}
